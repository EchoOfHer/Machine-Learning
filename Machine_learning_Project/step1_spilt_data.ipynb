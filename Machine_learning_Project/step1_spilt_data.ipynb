{
 "cells": [
  {
   "cell_type": "code",
   "execution_count": 1,
   "id": "3a148f05",
   "metadata": {},
   "outputs": [],
   "source": [
    "import pandas\n",
    "import sklearn.model_selection"
   ]
  },
  {
   "cell_type": "markdown",
   "id": "5c45d524",
   "metadata": {},
   "source": [
    "# Load data"
   ]
  },
  {
   "cell_type": "code",
   "execution_count": 2,
   "id": "e42651c1",
   "metadata": {},
   "outputs": [],
   "source": [
    "data = pandas.read_csv('./data/high_salary.csv').set_index('id')"
   ]
  },
  {
   "cell_type": "markdown",
   "id": "90bf11f2",
   "metadata": {},
   "source": [
    "# Split the data\n",
    "- using `sklearn.model_selection.train_test_split` with the following configurations:\n",
    "```\n",
    "    train_size   = 0.75\n",
    "    shuffle      = True \n",
    "    random_state = 0\n",
    "```"
   ]
  },
  {
   "cell_type": "code",
   "execution_count": 3,
   "id": "ea99a7dd",
   "metadata": {},
   "outputs": [],
   "source": [
    "data_train,data_test = sklearn.model_selection.train_test_split(\n",
    "    data,\n",
    "    train_size   = 0.80,\n",
    "    shuffle      = True ,\n",
    "    random_state = 0\n",
    ")"
   ]
  },
  {
   "cell_type": "markdown",
   "id": "04491551",
   "metadata": {},
   "source": [
    "# Save data\n",
    "- Write the train data set to `./data/credit.train.csv`\n",
    "- Write the test data set to `./data/credit.test.csv`"
   ]
  },
  {
   "cell_type": "code",
   "execution_count": 4,
   "id": "4dc3fdfc",
   "metadata": {},
   "outputs": [],
   "source": [
    "data_train.to_csv('./data/salary.train.csv')\n",
    "data_test.to_csv('./data/salary.test.csv')"
   ]
  }
 ],
 "metadata": {
  "kernelspec": {
   "display_name": "base",
   "language": "python",
   "name": "python3"
  },
  "language_info": {
   "codemirror_mode": {
    "name": "ipython",
    "version": 3
   },
   "file_extension": ".py",
   "mimetype": "text/x-python",
   "name": "python",
   "nbconvert_exporter": "python",
   "pygments_lexer": "ipython3",
   "version": "3.13.5"
  }
 },
 "nbformat": 4,
 "nbformat_minor": 5
}
