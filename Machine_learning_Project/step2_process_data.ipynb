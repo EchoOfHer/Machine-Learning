{
 "cells": [
  {
   "cell_type": "code",
   "execution_count": null,
   "id": "ad453b84",
   "metadata": {},
   "outputs": [],
   "source": []
  },
  {
   "cell_type": "code",
   "execution_count": 23,
   "id": "8cbfb2d1",
   "metadata": {},
   "outputs": [],
   "source": [
    "import pandas\n",
    "import seaborn as sns\n",
    "import numpy\n",
    "import matplotlib.pyplot as plt\n",
    "import sklearn.impute \n",
    "import sklearn.preprocessing\n",
    "from sklearn.preprocessing import OrdinalEncoder \n",
    "\n",
    "\n",
    "from sklearn.impute import SimpleImputer\n",
    "%matplotlib inline"
   ]
  },
  {
   "cell_type": "markdown",
   "id": "bd411fbd",
   "metadata": {},
   "source": [
    "# Import data"
   ]
  },
  {
   "cell_type": "code",
   "execution_count": 24,
   "id": "14ab7487",
   "metadata": {},
   "outputs": [],
   "source": [
    "data_train = pandas.read_csv('./Data/salary.train.csv', index_col='id')\n",
    "data_test = pandas.read_csv('./Data/salary.test.csv', index_col='id')\n",
    "data_live = pandas.read_csv('./Data/high_salary.live.csv', index_col='id')"
   ]
  },
  {
   "cell_type": "markdown",
   "id": "a919f4f9",
   "metadata": {},
   "source": [
    "# explore data"
   ]
  },
  {
   "cell_type": "code",
   "execution_count": 25,
   "id": "4603826a",
   "metadata": {},
   "outputs": [
    {
     "data": {
      "text/plain": [
       "social-security-number    float64\n",
       "house-number              float64\n",
       "age-group                 float64\n",
       "workclass                  object\n",
       "fnlwgt                    float64\n",
       "education                  object\n",
       "education-num             float64\n",
       "marital-status             object\n",
       "occupation                 object\n",
       "relationship               object\n",
       "race                       object\n",
       "sex                        object\n",
       "capitalgain               float64\n",
       "capitalloss               float64\n",
       "hoursperweek              float64\n",
       "native-country-code        object\n",
       "native-country             object\n",
       "label                     float64\n",
       "dtype: object"
      ]
     },
     "execution_count": 25,
     "metadata": {},
     "output_type": "execute_result"
    }
   ],
   "source": [
    "data_train.dtypes"
   ]
  },
  {
   "cell_type": "code",
   "execution_count": 26,
   "id": "42e979d9",
   "metadata": {},
   "outputs": [
    {
     "name": "stdout",
     "output_type": "stream",
     "text": [
      "social-security-number\n",
      "657404344.0    1\n",
      "987463818.0    1\n",
      "884327274.0    1\n",
      "397372044.0    1\n",
      "452805335.0    1\n",
      "              ..\n",
      "322171233.0    1\n",
      "108941245.0    1\n",
      "192389431.0    1\n",
      "634986111.0    1\n",
      "862188462.0    1\n",
      "Name: count, Length: 16708, dtype: int64\n",
      "---------\n",
      "house-number\n",
      "4668.0    8\n",
      "3096.0    7\n",
      "8866.0    7\n",
      "7524.0    7\n",
      "420.0     7\n",
      "         ..\n",
      "7492.0    1\n",
      "2419.0    1\n",
      "1327.0    1\n",
      "883.0     1\n",
      "3421.0    1\n",
      "Name: count, Length: 8059, dtype: int64\n",
      "---------\n",
      "age-group\n",
      "2.0    4515\n",
      "1.0    4172\n",
      "3.0    3310\n",
      "0.0    2496\n",
      "4.0    2220\n",
      "Name: count, dtype: int64\n",
      "---------\n",
      "workclass\n",
      "private             11278\n",
      "self-emp-not-inc     1385\n",
      "local-gov            1176\n",
      "self-emp-inc          770\n",
      "state-gov             707\n",
      "federal-gov           547\n",
      "without-pay             7\n",
      "never-worked            3\n",
      "Name: count, dtype: int64\n",
      "---------\n",
      "fnlwgt\n",
      "125892.0    10\n",
      "148995.0    10\n",
      "111483.0     9\n",
      "212894.0     9\n",
      "193882.0     9\n",
      "            ..\n",
      "118149.0     1\n",
      "467759.0     1\n",
      "428584.0     1\n",
      "295308.0     1\n",
      "682947.0     1\n",
      "Name: count, Length: 12664, dtype: int64\n",
      "---------\n",
      "education\n",
      "hs-grad         4966\n",
      "some-college    3581\n",
      "bachelors       3225\n",
      "masters         1168\n",
      "assoc-voc        751\n",
      "assoc-acdm       543\n",
      "11th             495\n",
      "10th             400\n",
      "prof-school      399\n",
      "doctorate        301\n",
      "7th-8th          259\n",
      "9th              196\n",
      "12th             180\n",
      "5th-6th          156\n",
      "1st-4th           59\n",
      "preschool         25\n",
      "Name: count, dtype: int64\n",
      "---------\n",
      "education-num\n",
      "9.0     4964\n",
      "10.0    3581\n",
      "13.0    3227\n",
      "14.0    1169\n",
      "11.0     751\n",
      "12.0     543\n",
      "7.0      495\n",
      "6.0      402\n",
      "15.0     399\n",
      "16.0     303\n",
      "4.0      258\n",
      "5.0      196\n",
      "8.0      180\n",
      "3.0      156\n",
      "2.0       59\n",
      "1.0       25\n",
      "Name: count, dtype: int64\n",
      "---------\n",
      "marital-status\n",
      "married-civ-spouse       9306\n",
      "never-married            4353\n",
      "divorced                 1954\n",
      "widowed                   465\n",
      "separated                 413\n",
      "married-spouse-absent     190\n",
      "married-af-spouse          18\n",
      "Name: count, dtype: int64\n",
      "---------\n",
      "occupation\n",
      "exec-managerial      2618\n",
      "prof-specialty       2544\n",
      "craft-repair         2026\n",
      "sales                1954\n",
      "adm-clerical         1683\n",
      "other-service        1325\n",
      "machine-op-inspct     929\n",
      "transport-moving      776\n",
      "handlers-cleaners     577\n",
      "tech-support          528\n",
      "farming-fishing       460\n",
      "protective-serv       376\n",
      "priv-house-serv        73\n",
      "armed-forces            6\n",
      "Name: count, dtype: int64\n",
      "---------\n",
      "relationship\n",
      "husband           8211\n",
      "not-in-family     3636\n",
      "own-child         1982\n",
      "unmarried         1457\n",
      "wife              1010\n",
      "other-relative     409\n",
      "Name: count, dtype: int64\n",
      "---------\n",
      "race\n",
      "white                 14534\n",
      "black                  1371\n",
      "asian-pac-islander      541\n",
      "amer-indian-eskimo      146\n",
      "other                   114\n",
      "Name: count, dtype: int64\n",
      "---------\n",
      "sex\n",
      "male      11843\n",
      "female     4862\n",
      "Name: count, dtype: int64\n",
      "---------\n",
      "capitalgain\n",
      "0.0    14802\n",
      "4.0      675\n",
      "2.0      570\n",
      "1.0      334\n",
      "3.0      319\n",
      "Name: count, dtype: int64\n",
      "---------\n",
      "capitalloss\n",
      "0.0    15755\n",
      "3.0      396\n",
      "2.0      298\n",
      "4.0      141\n",
      "1.0      116\n",
      "Name: count, dtype: int64\n",
      "---------\n",
      "hoursperweek\n",
      "2.0    9422\n",
      "3.0    3704\n",
      "1.0    1746\n",
      "0.0    1216\n",
      "4.0     613\n",
      "Name: count, dtype: int64\n",
      "---------\n",
      "native-country-code\n",
      "USA    15045\n",
      "MEX      259\n",
      "PHL       98\n",
      "DUE       79\n",
      "CAN       75\n",
      "IND       57\n",
      "SLV       52\n",
      "GBR       48\n",
      "PRI       47\n",
      "ITA       46\n",
      "CUB       45\n",
      "JPN       38\n",
      "ZAF       37\n",
      "CHN       36\n",
      "JAM       35\n",
      "POL       34\n",
      "DOM       31\n",
      "TWN       30\n",
      "IRN       26\n",
      "GTM       24\n",
      "PRT       23\n",
      "VNM       22\n",
      "GRC       22\n",
      "HTI       21\n",
      "COL       20\n",
      "HKG       16\n",
      "FRA       16\n",
      "ECU       15\n",
      "PER       13\n",
      "IRL       13\n",
      "KHM       13\n",
      "LAO       10\n",
      "NIC       10\n",
      "UMI        8\n",
      "YUG        7\n",
      "HUN        7\n",
      "TTO        7\n",
      "THA        7\n",
      "HND        5\n",
      "NLD        1\n",
      "Name: count, dtype: int64\n",
      "---------\n",
      "native-country\n",
      "united-states                 15046\n",
      "mexico                          260\n",
      "philippines                      97\n",
      "germany                          79\n",
      "canada                           75\n",
      "india                            56\n",
      "el-salvador                      52\n",
      "puerto-rico                      47\n",
      "italy                            46\n",
      "cuba                             45\n",
      "england                          43\n",
      "japan                            38\n",
      "south                            37\n",
      "china                            36\n",
      "jamaica                          35\n",
      "poland                           34\n",
      "dominican-republic               31\n",
      "taiwan                           30\n",
      "iran                             26\n",
      "guatemala                        24\n",
      "portugal                         23\n",
      "greece                           22\n",
      "vietnam                          22\n",
      "columbia                         20\n",
      "haiti                            20\n",
      "france                           16\n",
      "hong                             16\n",
      "ecuador                          15\n",
      "peru                             13\n",
      "cambodia                         13\n",
      "ireland                          13\n",
      "laos                             10\n",
      "nicaragua                        10\n",
      "outlying-us(guam-usvi-etc)        8\n",
      "yugoslavia                        7\n",
      "trinadad&tobago                   7\n",
      "hungary                           7\n",
      "thailand                          7\n",
      "honduras                          5\n",
      "scotland                          5\n",
      "holand-netherlands                1\n",
      "Name: count, dtype: int64\n",
      "---------\n",
      "label\n",
      "0.0    9719\n",
      "1.0    7001\n",
      "Name: count, dtype: int64\n",
      "---------\n"
     ]
    }
   ],
   "source": [
    "for feature in data_train:\n",
    "    print(data_train[feature].value_counts())\n",
    "    print('---------')"
   ]
  },
  {
   "cell_type": "markdown",
   "id": "1b17c49d",
   "metadata": {},
   "source": [
    "from the previous cell we notice that we have some no-important features and redundant feature\n",
    "1. Unique (no-important)\n",
    "    - social-security-number\n",
    "    - house-number\n",
    "    - fnlwgt\n",
    "2. Redundant \n",
    "    - education and education-num\n",
    "    - native-contry-code and native-contry"
   ]
  },
  {
   "cell_type": "markdown",
   "id": "eede4fa1",
   "metadata": {},
   "source": [
    "- define category"
   ]
  },
  {
   "cell_type": "code",
   "execution_count": 27,
   "id": "280a628e",
   "metadata": {},
   "outputs": [],
   "source": [
    "numeric_features = [\n",
    "    'social-security-number',\n",
    "    'house-number',\n",
    "    'fnlwgt'\n",
    "]\n",
    "categorical_features = [\n",
    "    'age-group',\n",
    "    'education',\n",
    "    'education-num',\n",
    "    'workclass',\n",
    "    'marital-status',\n",
    "    'occupation',\n",
    "    'relationship',\n",
    "    'race',\n",
    "    'sex',\n",
    "    'native-country-code',\n",
    "    'native-country',\n",
    "    'capitalgain',  \n",
    "    'capitalloss',  \n",
    "    'hoursperweek' \n",
    "]"
   ]
  },
  {
   "cell_type": "markdown",
   "id": "f89cee53",
   "metadata": {},
   "source": [
    "# Outlier and Missing value"
   ]
  },
  {
   "cell_type": "markdown",
   "id": "4f82118e",
   "metadata": {},
   "source": [
    "### Define Outlier Detection Function\n",
    "- Define function `count_outliers` to identify outliers.\n",
    "It calculates the 1st quartile and 3rd quartile, \n",
    "1. finds the IQR `(IQR = Q_3 - Q_1)`, \n",
    "2. determines the lower_bound `(Q_1 - 1.5 \\times IQR)` \n",
    "3. upper_bound `(Q_3 + 1.5 \\times IQR)`. \n",
    "\n",
    "It returns the total count of values falling outside these bounds.\n"
   ]
  },
  {
   "cell_type": "code",
   "execution_count": 28,
   "id": "d6cc0e6d",
   "metadata": {},
   "outputs": [],
   "source": [
    "def count_outliers(series):\n",
    "    \"\"\"\n",
    "    Calculates the number of outliers in a pandas Series using the 1.5*IQR rule.\n",
    "    \"\"\"\n",
    "    try:\n",
    "        Q1 = series.quantile(0.25)\n",
    "        Q3 = series.quantile(0.75)\n",
    "        IQR = Q3 - Q1\n",
    "        lower_bound = Q1 - 1.5 * IQR\n",
    "        upper_bound = Q3 + 1.5 * IQR\n",
    "        \n",
    "        # Find outliers\n",
    "        outliers = series[(series < lower_bound) | (series > upper_bound)]\n",
    "        \n",
    "        return len(outliers), lower_bound, upper_bound\n",
    "    except Exception as e:\n",
    "        # Handle cases where calculation might fail (e.g., non-numeric data)\n",
    "        print(f\"Error processing {series.name}: {e}\")\n",
    "        return 0, None, None"
   ]
  },
  {
   "cell_type": "markdown",
   "id": "4c98a1a1",
   "metadata": {},
   "source": [
    "visualize Outlier "
   ]
  },
  {
   "cell_type": "markdown",
   "id": "6bd0929f",
   "metadata": {},
   "source": [
    "- Training Data"
   ]
  },
  {
   "cell_type": "code",
   "execution_count": 29,
   "id": "bc397bb6",
   "metadata": {},
   "outputs": [
    {
     "data": {
      "image/png": "[encoded data removed]",
      "text/plain": [
       "<Figure size 1500x500 with 3 Axes>"
      ]
     },
     "metadata": {},
     "output_type": "display_data"
    }
   ],
   "source": [
    "# Set up the plot\n",
    "plt.figure(figsize=(15, 5))\n",
    "plt.suptitle('Numeric Features Training data', fontsize=16, y=1.03) \n",
    "\n",
    "for i, feature in enumerate(numeric_features, 1):\n",
    "    # Create a subplot for each feature\n",
    "    plt.subplot(1, 3, i) \n",
    "    sns.boxplot(y=data_train[feature])\n",
    "    plt.title(f'{feature}')\n",
    "    plt.ylabel('Value')\n",
    "\n",
    "plt.tight_layout() # Adjusts plots to prevent them from overlapping\n",
    "plt.show() # Display the plot"
   ]
  },
  {
   "cell_type": "markdown",
   "id": "59aed7e6",
   "metadata": {},
   "source": [
    "- Testing Data"
   ]
  },
  {
   "cell_type": "code",
   "execution_count": 30,
   "id": "cd503b07",
   "metadata": {},
   "outputs": [
    {
     "data": {
      "image/png": "[encoded data removed]",
      "text/plain": [
       "<Figure size 1500x500 with 3 Axes>"
      ]
     },
     "metadata": {},
     "output_type": "display_data"
    }
   ],
   "source": [
    "# Set up the plot\n",
    "plt.figure(figsize=(15, 5))\n",
    "plt.suptitle('Numeric Features Testing data', fontsize=16, y=1.03) \n",
    "\n",
    "for i, feature in enumerate(numeric_features, 1):\n",
    "    # Create a subplot for each feature\n",
    "    plt.subplot(1, 3, i) \n",
    "    sns.boxplot(y=data_test[feature])\n",
    "    plt.title(f'{feature}')\n",
    "    plt.ylabel('Value')\n",
    "\n",
    "plt.tight_layout() # Adjusts plots to prevent them from overlapping\n",
    "plt.show() # Display the plot"
   ]
  },
  {
   "cell_type": "markdown",
   "id": "212f1de6",
   "metadata": {},
   "source": [
    "- Live data"
   ]
  },
  {
   "cell_type": "code",
   "execution_count": 31,
   "id": "52418e9d",
   "metadata": {},
   "outputs": [
    {
     "data": {
      "image/png": "[encoded data removed]",
      "text/plain": [
       "<Figure size 1500x500 with 3 Axes>"
      ]
     },
     "metadata": {},
     "output_type": "display_data"
    }
   ],
   "source": [
    "# Set up the plot\n",
    "plt.figure(figsize=(15, 5))\n",
    "plt.suptitle('Numeric Features Live data', fontsize=16, y=1.03) \n",
    "\n",
    "for i, feature in enumerate(numeric_features, 1):\n",
    "    # Create a subplot for each feature\n",
    "    plt.subplot(1, 3, i) \n",
    "    sns.boxplot(y=data_live[feature])\n",
    "    plt.title(f'{feature}')\n",
    "    plt.ylabel('Value')\n",
    "\n",
    "plt.tight_layout() # Adjusts plots to prevent them from overlapping\n",
    "plt.show() # Display the plot"
   ]
  },
  {
   "cell_type": "markdown",
   "id": "0b925c5f",
   "metadata": {},
   "source": [
    "### Detect missing value"
   ]
  },
  {
   "cell_type": "markdown",
   "id": "0906f7ab",
   "metadata": {},
   "source": [
    "- Training Data"
   ]
  },
  {
   "cell_type": "code",
   "execution_count": 32,
   "id": "31957d1f",
   "metadata": {},
   "outputs": [
    {
     "data": {
      "text/plain": [
       "social-security-number    12\n",
       "house-number              20\n",
       "fnlwgt                    17\n",
       "dtype: int64"
      ]
     },
     "execution_count": 32,
     "metadata": {},
     "output_type": "execute_result"
    }
   ],
   "source": [
    "data_train_numeric = data_train[numeric_features]\n",
    "data_train_numeric.isna().sum()"
   ]
  },
  {
   "cell_type": "markdown",
   "id": "a633cc0c",
   "metadata": {},
   "source": [
    "- Testing Data"
   ]
  },
  {
   "cell_type": "code",
   "execution_count": 33,
   "id": "888596cc",
   "metadata": {},
   "outputs": [
    {
     "data": {
      "text/plain": [
       "social-security-number    2\n",
       "house-number              7\n",
       "fnlwgt                    6\n",
       "dtype: int64"
      ]
     },
     "execution_count": 33,
     "metadata": {},
     "output_type": "execute_result"
    }
   ],
   "source": [
    "data_test_numeric = data_test[numeric_features]\n",
    "data_test_numeric.isna().sum()"
   ]
  },
  {
   "cell_type": "markdown",
   "id": "756ee214",
   "metadata": {},
   "source": [
    "- Live data"
   ]
  },
  {
   "cell_type": "code",
   "execution_count": 34,
   "id": "d6df0fe5",
   "metadata": {},
   "outputs": [
    {
     "data": {
      "text/plain": [
       "social-security-number    2\n",
       "house-number              9\n",
       "fnlwgt                    4\n",
       "dtype: int64"
      ]
     },
     "execution_count": 34,
     "metadata": {},
     "output_type": "execute_result"
    }
   ],
   "source": [
    "data_live_numeric = data_live[numeric_features]\n",
    "data_live_numeric.isna().sum()"
   ]
  },
  {
   "cell_type": "markdown",
   "id": "fd805370",
   "metadata": {},
   "source": [
    "### Handle missing value and Outlier"
   ]
  },
  {
   "cell_type": "markdown",
   "id": "bf1279e0",
   "metadata": {},
   "source": [
    "We seeing that our numerical feature has an outlier"
   ]
  },
  {
   "cell_type": "code",
   "execution_count": 35,
   "id": "49c62617",
   "metadata": {},
   "outputs": [
    {
     "data": {
      "text/plain": [
       "social-security-number\n",
       "657404344.0    1\n",
       "987463818.0    1\n",
       "884327274.0    1\n",
       "397372044.0    1\n",
       "452805335.0    1\n",
       "              ..\n",
       "322171233.0    1\n",
       "108941245.0    1\n",
       "192389431.0    1\n",
       "634986111.0    1\n",
       "862188462.0    1\n",
       "Name: count, Length: 16708, dtype: int64"
      ]
     },
     "execution_count": 35,
     "metadata": {},
     "output_type": "execute_result"
    }
   ],
   "source": [
    "data_train['social-security-number'].value_counts()"
   ]
  },
  {
   "cell_type": "code",
   "execution_count": null,
   "id": "e710d18c",
   "metadata": {},
   "outputs": [],
   "source": []
  }
 ],
 "metadata": {
  "kernelspec": {
   "display_name": "base",
   "language": "python",
   "name": "python3"
  },
  "language_info": {
   "codemirror_mode": {
    "name": "ipython",
    "version": 3
   },
   "file_extension": ".py",
   "mimetype": "text/x-python",
   "name": "python",
   "nbconvert_exporter": "python",
   "pygments_lexer": "ipython3",
   "version": "3.13.5"
  }
 },
 "nbformat": 4,
 "nbformat_minor": 5
}
