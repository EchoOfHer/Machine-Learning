{
 "cells": [
  {
   "cell_type": "code",
   "execution_count": null,
   "id": "1109a70b",
   "metadata": {},
   "outputs": [],
   "source": [
    "import pandas as pd\n",
    "from sklearn.linear_model import LogisticRegression\n",
    "from sklearn.metrics import accuracy_score, classification_report"
   ]
  },
  {
   "cell_type": "markdown",
   "id": "05bee08f",
   "metadata": {},
   "source": [
    "### Step 1: Load processed data "
   ]
  },
  {
   "cell_type": "code",
   "execution_count": null,
   "id": "0aca9412",
   "metadata": {},
   "outputs": [],
   "source": [
    "train_df = pd.read_csv('./data/salary.train.processed.csv').set_index('id')\n",
    "test_df = pd.read_csv('./data/salary.test.processed.csv').set_index('id')"
   ]
  },
  {
   "cell_type": "code",
   "execution_count": null,
   "id": "e6b06c0f",
   "metadata": {},
   "outputs": [],
   "source": [
    "\n",
    "\n",
    "# --- Step 1: Load Your PROCESSED Data ---\n",
    "# We use the clean CSVs you just saved\n",
    "train_df = data_train\n",
    "test_df = data_test\n",
    "    \n",
    "\n",
    "# --- Step 2: Separate Features (X) and Target (y) ---\n",
    "# The 'label' column is our target (y)\n",
    "# All other columns are our features (X)\n",
    "\n",
    "# Training data\n",
    "X_train = train_df.drop('label', axis=1)\n",
    "y_train = train_df['label']\n",
    "\n",
    "# Test data\n",
    "X_test = test_df.drop('label', axis=1)\n",
    "y_test = test_df['label']\n",
    "\n",
    "print(f\"Training features shape: {X_train.shape}\")\n",
    "print(f\"Testing features shape: {X_test.shape}\")\n",
    "\n",
    "\n",
    "# --- Step 3: Initialize and Train the Model ---\n",
    "# We add max_iter=1000 to help the model solve for the best fit\n",
    "# 'random_state=42' just ensures you get the same result as me\n",
    "log_reg = LogisticRegression(max_iter=1000, random_state=42)\n",
    "\n",
    "print(\"\\nTraining the model...\")\n",
    "log_reg.fit(X_train, y_train)\n",
    "print(\"Model training complete!\")\n",
    "\n",
    "\n",
    "# --- Step 4: Evaluate the Model ---\n",
    "# Make predictions on the (unseen) test data\n",
    "y_pred = log_reg.predict(X_test)\n",
    "\n",
    "# Check the accuracy\n",
    "# This tells us what percentage of predictions were correct\n",
    "accuracy = accuracy_score(y_test, y_pred)\n",
    "print(f\"\\nModel Accuracy on Test Data: {accuracy * 100:.2f}%\")\n",
    "\n",
    "# Get a detailed report (precision, recall, f1-score)\n",
    "# This is much more useful than just accuracy\n",
    "print(\"\\nClassification Report:\")\n",
    "print(classification_report(y_test, y_pred,digits=4))"
   ]
  }
 ],
 "metadata": {
  "language_info": {
   "name": "python"
  }
 },
 "nbformat": 4,
 "nbformat_minor": 5
}
