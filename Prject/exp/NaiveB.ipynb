{
 "cells": [
  {
   "cell_type": "markdown",
   "id": "82204692",
   "metadata": {},
   "source": [
    "# Naive Bayes"
   ]
  },
  {
   "cell_type": "code",
   "execution_count": 2,
   "id": "377ff1f0",
   "metadata": {},
   "outputs": [],
   "source": [
    "import pandas\n",
    "\n",
    "from sklearn.naive_bayes import GaussianNB\n",
    "from sklearn.metrics import f1_score\n"
   ]
  },
  {
   "cell_type": "code",
   "execution_count": 3,
   "id": "2da6210b",
   "metadata": {},
   "outputs": [],
   "source": [
    "data_train = pandas.read_csv('./data/data_train_processed.csv').set_index('id')\n",
    "data_test = pandas.read_csv('./data/data_test_processed.csv').set_index('id')"
   ]
  },
  {
   "cell_type": "code",
   "execution_count": 4,
   "id": "0051d11d",
   "metadata": {},
   "outputs": [
    {
     "name": "stdout",
     "output_type": "stream",
     "text": [
      "\n",
      "F1 Score จาก Gaussian Naive Bayes เริ่มต้น: 0.6503313299429804\n"
     ]
    }
   ],
   "source": [
    "# กำหนด target\n",
    "target = 'label'\n",
    "\n",
    "# แยกข้อมูลฝึกและทดสอบ\n",
    "X_train = data_train.drop(columns=[target])\n",
    "y_train = data_train[target]\n",
    "X_test = data_test.drop(columns=[target])\n",
    "y_test = data_test[target]\n",
    "\n",
    "# สร้างและฝึกโมเดลเริ่มต้น\n",
    "model = GaussianNB()\n",
    "model.fit(X_train, y_train)\n",
    "\n",
    "# ทดสอบและคำนวณ F1 Score\n",
    "y_pred = model.predict(X_test)\n",
    "f1 = f1_score(y_test, y_pred)\n",
    "print(\"\\nF1 Score จาก Gaussian Naive Bayes เริ่มต้น:\", f1)"
   ]
  },
  {
   "cell_type": "code",
   "execution_count": 5,
   "id": "d5f8b056",
   "metadata": {},
   "outputs": [
    {
     "name": "stdout",
     "output_type": "stream",
     "text": [
      "พารามิเตอร์ที่ดีที่สุด: {'var_smoothing': 1e-05}\n",
      "F1 Score ที่ดีที่สุดจาก GridSearch: 0.7193076131986358\n",
      "\n",
      "F1 Score หลังปรับแต่ง Gaussian Naive Bayes: 0.7069296561354512\n"
     ]
    }
   ],
   "source": [
    "from sklearn.naive_bayes import GaussianNB\n",
    "from sklearn.model_selection import GridSearchCV\n",
    "from sklearn.metrics import f1_score\n",
    "\n",
    "# กำหนดพารามิเตอร์ที่ต้องการทดสอบ\n",
    "param_grid = {\n",
    "    'var_smoothing': [1e-9, 1e-8, 1e-7, 1e-6, 1e-5]  # ค่าเริ่มต้นคือ 1e-9\n",
    "}\n",
    "\n",
    "# ฝึกโมเดลด้วย GridSearchCV\n",
    "model = GaussianNB()\n",
    "grid_search = GridSearchCV(model, param_grid, cv=5, scoring='f1', n_jobs=2)\n",
    "grid_search.fit(X_train, y_train)\n",
    "\n",
    "# ผลลัพธ์\n",
    "print(\"พารามิเตอร์ที่ดีที่สุด:\", grid_search.best_params_)\n",
    "print(\"F1 Score ที่ดีที่สุดจาก GridSearch:\", grid_search.best_score_)\n",
    "\n",
    "# ใช้โมเดลที่ดีที่สุดในการทำนาย\n",
    "best_model = grid_search.best_estimator_\n",
    "y_pred_best = best_model.predict(X_test)\n",
    "f1_best = f1_score(y_test, y_pred_best)\n",
    "print(\"\\nF1 Score หลังปรับแต่ง Gaussian Naive Bayes:\", f1_best)"
   ]
  },
  {
   "cell_type": "code",
   "execution_count": 7,
   "id": "fe91b3c9",
   "metadata": {},
   "outputs": [
    {
     "name": "stdout",
     "output_type": "stream",
     "text": [
      "\n",
      "F1 Score จาก Gaussian Naive Bayes เริ่มต้น: 0.7069296561354512\n"
     ]
    }
   ],
   "source": [
    "# กำหนด target\n",
    "target = 'label'\n",
    "\n",
    "# แยกข้อมูลฝึกและทดสอบ\n",
    "X_train = data_train.drop(columns=[target])\n",
    "y_train = data_train[target]\n",
    "X_test = data_test.drop(columns=[target])\n",
    "y_test = data_test[target]\n",
    "\n",
    "# สร้างและฝึกโมเดลเริ่มต้น\n",
    "model = GaussianNB(var_smoothing=1e-05)\n",
    "model.fit(X_train, y_train)\n",
    "\n",
    "# ทดสอบและคำนวณ F1 Score\n",
    "y_pred = model.predict(X_test)\n",
    "f1 = f1_score(y_test, y_pred)\n",
    "print(\"\\nF1 Score จาก Gaussian Naive Bayes เริ่มต้น:\", f1)"
   ]
  },
  {
   "cell_type": "code",
   "execution_count": null,
   "id": "d1e98f6d",
   "metadata": {},
   "outputs": [],
   "source": []
  }
 ],
 "metadata": {
  "kernelspec": {
   "display_name": "base",
   "language": "python",
   "name": "python3"
  },
  "language_info": {
   "codemirror_mode": {
    "name": "ipython",
    "version": 3
   },
   "file_extension": ".py",
   "mimetype": "text/x-python",
   "name": "python",
   "nbconvert_exporter": "python",
   "pygments_lexer": "ipython3",
   "version": "3.13.5"
  }
 },
 "nbformat": 4,
 "nbformat_minor": 5
}
