{
 "cells": [
  {
   "cell_type": "markdown",
   "id": "6dbf0228",
   "metadata": {},
   "source": [
    "# SVM"
   ]
  },
  {
   "cell_type": "code",
   "execution_count": 2,
   "id": "f9407cb2",
   "metadata": {},
   "outputs": [],
   "source": [
    "\n",
    "import pandas\n",
    "\n",
    "\n",
    "data_train = pandas.read_csv('./data/data_train_processed.csv').set_index('id')\n",
    "data_test = pandas.read_csv('./data/data_test_processed.csv').set_index('id')"
   ]
  },
  {
   "cell_type": "code",
   "execution_count": 3,
   "id": "4fd93859",
   "metadata": {},
   "outputs": [
    {
     "name": "stdout",
     "output_type": "stream",
     "text": [
      "\n",
      "F1 Score จาก LinearSVC เริ่มต้น: 0.781707591799955\n"
     ]
    }
   ],
   "source": [
    "from sklearn.svm import LinearSVC\n",
    "from sklearn.metrics import f1_score\n",
    "\n",
    "# กำหนด target\n",
    "target = 'label'\n",
    "\n",
    "# แยกข้อมูลฝึกและทดสอบ\n",
    "X_train = data_train.drop(columns=[target])\n",
    "y_train = data_train[target]\n",
    "X_test = data_test.drop(columns=[target])\n",
    "y_test = data_test[target]\n",
    "\n",
    "# สร้างและฝึกโมเดลเริ่มต้น\n",
    "model = LinearSVC(random_state=42, max_iter=10000)  # max_iter เพิ่มเพื่อป้องกัน ConvergenceWarning\n",
    "model.fit(X_train, y_train)\n",
    "\n",
    "# ทดสอบและคำนวณ F1 Score\n",
    "y_pred = model.predict(X_test)\n",
    "f1 = f1_score(y_test, y_pred)\n",
    "print(\"\\nF1 Score จาก LinearSVC เริ่มต้น:\", f1)"
   ]
  },
  {
   "cell_type": "code",
   "execution_count": 4,
   "id": "a870e37d",
   "metadata": {},
   "outputs": [
    {
     "name": "stdout",
     "output_type": "stream",
     "text": [
      "พารามิเตอร์ที่ดีที่สุด: {'C': 0.1, 'class_weight': 'balanced'}\n",
      "F1 Score ที่ดีที่สุดจาก GridSearch: 0.794968762457232\n",
      "\n",
      "F1 Score หลังปรับแต่ง LinearSVC: 0.7878271972760161\n"
     ]
    }
   ],
   "source": [
    "from sklearn.svm import LinearSVC\n",
    "from sklearn.model_selection import GridSearchCV\n",
    "from sklearn.metrics import f1_score\n",
    "\n",
    "# กำหนดพารามิเตอร์ที่ต้องการทดสอบ\n",
    "param_grid = {\n",
    "    'C': [0.01, 0.1, 1, 10, 100],  # ความเข้มงวดของ regularization\n",
    "    'class_weight': [None, 'balanced']  # ปรับน้ำหนักคลาส\n",
    "}\n",
    "\n",
    "# ฝึกโมเดลด้วย GridSearchCV\n",
    "model = LinearSVC(random_state=42, max_iter=10000)\n",
    "grid_search = GridSearchCV(model, param_grid, cv=5, scoring='f1', n_jobs=2)\n",
    "grid_search.fit(X_train, y_train)\n",
    "\n",
    "# ผลลัพธ์\n",
    "print(\"พารามิเตอร์ที่ดีที่สุด:\", grid_search.best_params_)\n",
    "print(\"F1 Score ที่ดีที่สุดจาก GridSearch:\", grid_search.best_score_)\n",
    "\n",
    "# ใช้โมเดลที่ดีที่สุดในการทำนาย\n",
    "best_model = grid_search.best_estimator_\n",
    "y_pred_best = best_model.predict(X_test)\n",
    "f1_best = f1_score(y_test, y_pred_best)\n",
    "print(\"\\nF1 Score หลังปรับแต่ง LinearSVC:\", f1_best)"
   ]
  },
  {
   "cell_type": "markdown",
   "id": "72bc5df6",
   "metadata": {},
   "source": [
    "## Non-Linear SVM"
   ]
  },
  {
   "cell_type": "code",
   "execution_count": 7,
   "id": "96e0e613",
   "metadata": {},
   "outputs": [
    {
     "name": "stderr",
     "output_type": "stream",
     "text": [
      "c:\\ProgramData\\anaconda3\\Lib\\site-packages\\sklearn\\svm\\_base.py:305: ConvergenceWarning: Solver terminated early (max_iter=10000).  Consider pre-processing your data with StandardScaler or MinMaxScaler.\n",
      "  warnings.warn(\n"
     ]
    },
    {
     "name": "stdout",
     "output_type": "stream",
     "text": [
      "พารามิเตอร์ที่ดีที่สุด: {'C': 10, 'class_weight': 'balanced', 'gamma': 'scale'}\n",
      "F1 Score ที่ดีที่สุดจาก GridSearch: 0.7905513396822205\n",
      "\n",
      "F1 Score หลังปรับแต่ง SVC ด้วย RBF kernel (จำกัดพารามิเตอร์): 0.7872473431964992\n"
     ]
    }
   ],
   "source": [
    "from sklearn.svm import SVC\n",
    "from sklearn.model_selection import GridSearchCV\n",
    "from sklearn.metrics import f1_score\n",
    "\n",
    "# กำหนดพารามิเตอร์ที่จำกัด\n",
    "param_grid = {\n",
    "    'C': [1, 10],  # ลดจาก [0.1, 1, 10]\n",
    "    'gamma': ['scale'],  # ใช้ค่าเดียวก่อน\n",
    "    'class_weight': ['balanced']\n",
    "}\n",
    "\n",
    "# ฝึกโมเดล\n",
    "model = SVC(kernel='rbf', random_state=42, max_iter=10000)\n",
    "grid_search = GridSearchCV(model, param_grid, cv=3, scoring='f1', n_jobs=2)  # ลด cv จาก 5 เป็น 3\n",
    "grid_search.fit(X_train, y_train)\n",
    "\n",
    "# ผลลัพธ์\n",
    "print(\"พารามิเตอร์ที่ดีที่สุด:\", grid_search.best_params_)\n",
    "print(\"F1 Score ที่ดีที่สุดจาก GridSearch:\", grid_search.best_score_)\n",
    "\n",
    "# ใช้โมเดลที่ดีที่สุดในการทำนาย\n",
    "best_model = grid_search.best_estimator_\n",
    "y_pred_best = best_model.predict(X_test)\n",
    "f1_best = f1_score(y_test, y_pred_best)\n",
    "print(\"\\nF1 Score หลังปรับแต่ง SVC ด้วย RBF kernel (จำกัดพารามิเตอร์):\", f1_best)"
   ]
  },
  {
   "cell_type": "code",
   "execution_count": null,
   "id": "1267476e",
   "metadata": {},
   "outputs": [],
   "source": []
  }
 ],
 "metadata": {
  "kernelspec": {
   "display_name": "base",
   "language": "python",
   "name": "python3"
  },
  "language_info": {
   "codemirror_mode": {
    "name": "ipython",
    "version": 3
   },
   "file_extension": ".py",
   "mimetype": "text/x-python",
   "name": "python",
   "nbconvert_exporter": "python",
   "pygments_lexer": "ipython3",
   "version": "3.13.5"
  }
 },
 "nbformat": 4,
 "nbformat_minor": 5
}
