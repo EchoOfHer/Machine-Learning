{
 "cells": [
  {
   "cell_type": "code",
   "execution_count": 1,
   "id": "59dd7610",
   "metadata": {},
   "outputs": [
    {
     "name": "stdout",
     "output_type": "stream",
     "text": [
      "Training features shape: (16720, 89)\n",
      "Testing features shape: (4180, 89)\n",
      "\n",
      "Training the SVM model... (This might take a few minutes)\n",
      "Model training complete! Time taken: 15.47 seconds\n",
      "\n",
      "Evaluating the model on the test set...\n",
      "\n",
      "SVM Model Accuracy on Test Data: 82.44%\n",
      "\n",
      "SVM Classification Report:\n",
      "              precision    recall  f1-score   support\n",
      "\n",
      "         0.0     0.8594    0.8324    0.8457      2416\n",
      "         1.0     0.7799    0.8135    0.7963      1764\n",
      "\n",
      "    accuracy                         0.8244      4180\n",
      "   macro avg     0.8196    0.8229    0.8210      4180\n",
      "weighted avg     0.8258    0.8244    0.8249      4180\n",
      "\n"
     ]
    }
   ],
   "source": [
    "import pandas as pd\n",
    "from sklearn.svm import SVC\n",
    "from sklearn.metrics import classification_report, accuracy_score\n",
    "import time # To time the training\n",
    "\n",
    "# --- Step 1: Load Your PROCESSED Data ---\n",
    "try:\n",
    "    train_df = pd.read_csv('./Data/salary.train.processed.csv', index_col='id')\n",
    "    test_df = pd.read_csv('./Data/salary.test.processed.csv', index_col='id')\n",
    "except FileNotFoundError:\n",
    "    print(\"Error: Could not find the processed CSV files.\")\n",
    "    print(\"Please make sure 'salary.train.processed.csv' and 'salary.test.processed.csv' are in the './Data/' folder.\")\n",
    "    raise\n",
    "\n",
    "# --- Step 2: Separate Features (X) and Target (y) ---\n",
    "X_train = train_df.drop('label', axis=1)\n",
    "y_train = train_df['label']\n",
    "X_test = test_df.drop('label', axis=1)\n",
    "y_test = test_df['label']\n",
    "\n",
    "print(f\"Training features shape: {X_train.shape}\")\n",
    "print(f\"Testing features shape: {X_test.shape}\")\n",
    "\n",
    "# --- Step 3: Initialize and Train the SVM Model ---\n",
    "# We'll use the default RBF kernel for now.\n",
    "# 'random_state=42' for reproducibility\n",
    "svc = SVC(random_state=42)\n",
    "\n",
    "print(\"\\nTraining the SVM model... (This might take a few minutes)\")\n",
    "start_time = time.time()\n",
    "svc.fit(X_train, y_train)\n",
    "end_time = time.time()\n",
    "print(f\"Model training complete! Time taken: {end_time - start_time:.2f} seconds\")\n",
    "\n",
    "# --- Step 4: Evaluate the Model ---\n",
    "print(\"\\nEvaluating the model on the test set...\")\n",
    "y_pred_svc = svc.predict(X_test)\n",
    "\n",
    "# Check accuracy\n",
    "accuracy_svc = accuracy_score(y_test, y_pred_svc)\n",
    "print(f\"\\nSVM Model Accuracy on Test Data: {accuracy_svc * 100:.2f}%\")\n",
    "\n",
    "# Get a detailed report\n",
    "print(\"\\nSVM Classification Report:\")\n",
    "print(classification_report(y_test, y_pred_svc,digits=4))"
   ]
  },
  {
   "cell_type": "code",
   "execution_count": null,
   "id": "10ffa662",
   "metadata": {},
   "outputs": [],
   "source": []
  }
 ],
 "metadata": {
  "kernelspec": {
   "display_name": "base",
   "language": "python",
   "name": "python3"
  },
  "language_info": {
   "codemirror_mode": {
    "name": "ipython",
    "version": 3
   },
   "file_extension": ".py",
   "mimetype": "text/x-python",
   "name": "python",
   "nbconvert_exporter": "python",
   "pygments_lexer": "ipython3",
   "version": "3.12.7"
  }
 },
 "nbformat": 4,
 "nbformat_minor": 5
}
