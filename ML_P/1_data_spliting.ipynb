{
 "cells": [
  {
   "cell_type": "code",
   "execution_count": 27,
   "id": "93f75484",
   "metadata": {},
   "outputs": [],
   "source": [
    "import pandas\n",
    "import sklearn.model_selection"
   ]
  },
  {
   "cell_type": "code",
   "execution_count": 28,
   "id": "ab2c97ba",
   "metadata": {},
   "outputs": [],
   "source": [
    "data = pandas.read_csv('./data/high_salary.csv').set_index('id')"
   ]
  },
  {
   "cell_type": "code",
   "execution_count": 29,
   "id": "292c9fda",
   "metadata": {},
   "outputs": [],
   "source": [
    "data_train,data_test = sklearn.model_selection.train_test_split(\n",
    "    data,\n",
    "    train_size   = 0.80,\n",
    "    shuffle      = True ,\n",
    "    random_state = 0\n",
    ")"
   ]
  },
  {
   "cell_type": "code",
   "execution_count": 30,
   "id": "4d209dce",
   "metadata": {},
   "outputs": [],
   "source": [
    "data_train.to_csv('./data/salary.train.csv')\n",
    "data_test.to_csv('./data/salary.test.csv')"
   ]
  },
  {
   "cell_type": "code",
   "execution_count": null,
   "id": "445db022",
   "metadata": {},
   "outputs": [],
   "source": []
  }
 ],
 "metadata": {
  "kernelspec": {
   "display_name": "base",
   "language": "python",
   "name": "python3"
  },
  "language_info": {
   "codemirror_mode": {
    "name": "ipython",
    "version": 3
   },
   "file_extension": ".py",
   "mimetype": "text/x-python",
   "name": "python",
   "nbconvert_exporter": "python",
   "pygments_lexer": "ipython3",
   "version": "3.12.7"
  }
 },
 "nbformat": 4,
 "nbformat_minor": 5
}
