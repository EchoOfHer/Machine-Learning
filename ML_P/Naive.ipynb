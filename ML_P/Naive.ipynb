{
 "cells": [
  {
   "cell_type": "code",
   "execution_count": 1,
   "id": "79c695e5",
   "metadata": {},
   "outputs": [
    {
     "name": "stdout",
     "output_type": "stream",
     "text": [
      "Training features shape: (16720, 89)\n",
      "Testing features shape: (4180, 89)\n",
      "\n",
      "Training the Naive Bayes model...\n",
      "Model training complete!\n",
      "\n",
      "Evaluating the model on the test set...\n",
      "\n",
      "Naive Bayes Model Accuracy on Test Data: 62.13%\n",
      "\n",
      "Naive Bayes Classification Report:\n",
      "              precision    recall  f1-score   support\n",
      "\n",
      "         0.0       0.91      0.38      0.54      2416\n",
      "         1.0       0.53      0.95      0.68      1764\n",
      "\n",
      "    accuracy                           0.62      4180\n",
      "   macro avg       0.72      0.67      0.61      4180\n",
      "weighted avg       0.75      0.62      0.60      4180\n",
      "\n"
     ]
    }
   ],
   "source": [
    "import pandas as pd\n",
    "from sklearn.naive_bayes import GaussianNB\n",
    "from sklearn.metrics import classification_report, accuracy_score\n",
    "\n",
    "# --- Step 1: Load Your PROCESSED Data ---\n",
    "try:\n",
    "    train_df = pd.read_csv('./Data/salary.train.processed.csv', index_col='id')\n",
    "    test_df = pd.read_csv('./Data/salary.test.processed.csv', index_col='id')\n",
    "except FileNotFoundError:\n",
    "    print(\"Error: Could not find the processed CSV files.\")\n",
    "    print(\"Please make sure 'salary.train.processed.csv' and 'salary.test.processed.csv' are in the './Data/' folder.\")\n",
    "    raise\n",
    "\n",
    "# --- Step 2: Separate Features (X) and Target (y) ---\n",
    "X_train = train_df.drop('label', axis=1)\n",
    "y_train = train_df['label']\n",
    "X_test = test_df.drop('label', axis=1)\n",
    "y_test = test_df['label']\n",
    "\n",
    "print(f\"Training features shape: {X_train.shape}\")\n",
    "print(f\"Testing features shape: {X_test.shape}\")\n",
    "\n",
    "# --- Step 3: Initialize and Train the Naive Bayes Model ---\n",
    "# We use GaussianNB because our features are continuous (after scaling)\n",
    "nb_model = GaussianNB()\n",
    "\n",
    "print(\"\\nTraining the Naive Bayes model...\")\n",
    "nb_model.fit(X_train, y_train)\n",
    "print(\"Model training complete!\")\n",
    "\n",
    "# --- Step 4: Evaluate the Model ---\n",
    "print(\"\\nEvaluating the model on the test set...\")\n",
    "y_pred_nb = nb_model.predict(X_test)\n",
    "\n",
    "# Check accuracy\n",
    "accuracy_nb = accuracy_score(y_test, y_pred_nb)\n",
    "print(f\"\\nNaive Bayes Model Accuracy on Test Data: {accuracy_nb * 100:.2f}%\")\n",
    "\n",
    "# Get a detailed report\n",
    "print(\"\\nNaive Bayes Classification Report:\")\n",
    "print(classification_report(y_test, y_pred_nb))"
   ]
  },
  {
   "cell_type": "code",
   "execution_count": null,
   "id": "d346610d",
   "metadata": {},
   "outputs": [],
   "source": []
  }
 ],
 "metadata": {
  "kernelspec": {
   "display_name": "base",
   "language": "python",
   "name": "python3"
  },
  "language_info": {
   "codemirror_mode": {
    "name": "ipython",
    "version": 3
   },
   "file_extension": ".py",
   "mimetype": "text/x-python",
   "name": "python",
   "nbconvert_exporter": "python",
   "pygments_lexer": "ipython3",
   "version": "3.12.7"
  }
 },
 "nbformat": 4,
 "nbformat_minor": 5
}
