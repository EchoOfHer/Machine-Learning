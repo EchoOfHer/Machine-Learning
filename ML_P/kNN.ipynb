{
 "cells": [
  {
   "cell_type": "code",
   "execution_count": 1,
   "id": "9bafc0a5",
   "metadata": {},
   "outputs": [
    {
     "name": "stdout",
     "output_type": "stream",
     "text": [
      "Training features shape: (16720, 89)\n",
      "Testing features shape: (4180, 89)\n",
      "\n",
      "Training the KNN model...\n",
      "Model training complete!\n",
      "Evaluating the model on the test set...\n"
     ]
    },
    {
     "name": "stderr",
     "output_type": "stream",
     "text": [
      "c:\\Users\\natth\\anaconda3\\Lib\\site-packages\\joblib\\externals\\loky\\backend\\context.py:136: UserWarning: Could not find the number of physical cores for the following reason:\n",
      "[WinError 2] The system cannot find the file specified\n",
      "Returning the number of logical cores instead. You can silence this warning by setting LOKY_MAX_CPU_COUNT to the number of cores you want to use.\n",
      "  warnings.warn(\n",
      "  File \"c:\\Users\\natth\\anaconda3\\Lib\\site-packages\\joblib\\externals\\loky\\backend\\context.py\", line 257, in _count_physical_cores\n",
      "    cpu_info = subprocess.run(\n",
      "               ^^^^^^^^^^^^^^^\n",
      "  File \"c:\\Users\\natth\\anaconda3\\Lib\\subprocess.py\", line 548, in run\n",
      "    with Popen(*popenargs, **kwargs) as process:\n",
      "         ^^^^^^^^^^^^^^^^^^^^^^^^^^^\n",
      "  File \"c:\\Users\\natth\\anaconda3\\Lib\\subprocess.py\", line 1026, in __init__\n",
      "    self._execute_child(args, executable, preexec_fn, close_fds,\n",
      "  File \"c:\\Users\\natth\\anaconda3\\Lib\\subprocess.py\", line 1538, in _execute_child\n",
      "    hp, ht, pid, tid = _winapi.CreateProcess(executable, args,\n",
      "                       ^^^^^^^^^^^^^^^^^^^^^^^^^^^^^^^^^^^^^^^\n"
     ]
    },
    {
     "name": "stdout",
     "output_type": "stream",
     "text": [
      "\n",
      "KNN Model Accuracy on Test Data (k=5): 79.95%\n",
      "\n",
      "KNN Classification Report (k=5):\n",
      "              precision    recall  f1-score   support\n",
      "\n",
      "         0.0     0.8398    0.8071    0.8231      2416\n",
      "         1.0     0.7492    0.7891    0.7686      1764\n",
      "\n",
      "    accuracy                         0.7995      4180\n",
      "   macro avg     0.7945    0.7981    0.7959      4180\n",
      "weighted avg     0.8016    0.7995    0.8001      4180\n",
      "\n"
     ]
    }
   ],
   "source": [
    "import pandas as pd\n",
    "from sklearn.neighbors import KNeighborsClassifier\n",
    "from sklearn.metrics import classification_report, accuracy_score\n",
    "\n",
    "# --- Step 1: Load Your PROCESSED Data ---\n",
    "try:\n",
    "    train_df = pd.read_csv('./Data/salary.train.processed.csv', index_col='id')\n",
    "    test_df = pd.read_csv('./Data/salary.test.processed.csv', index_col='id')\n",
    "except FileNotFoundError:\n",
    "    print(\"Error: Could not find the processed CSV files.\")\n",
    "    print(\"Please make sure 'salary.train.processed.csv' and 'salary.test.processed.csv' are in the './Data/' folder.\")\n",
    "    raise\n",
    "\n",
    "# --- Step 2: Separate Features (X) and Target (y) ---\n",
    "X_train = train_df.drop('label', axis=1)\n",
    "y_train = train_df['label']\n",
    "X_test = test_df.drop('label', axis=1)\n",
    "y_test = test_df['label']\n",
    "\n",
    "print(f\"Training features shape: {X_train.shape}\")\n",
    "print(f\"Testing features shape: {X_test.shape}\")\n",
    "\n",
    "# --- Step 3: Initialize and Train the KNN Model ---\n",
    "# We'll start with k=5 neighbors (n_neighbors=5)\n",
    "# 'n_jobs=-1' uses all your CPU cores to speed up finding neighbors\n",
    "knn = KNeighborsClassifier(n_neighbors=5, n_jobs=-1)\n",
    "\n",
    "print(\"\\nTraining the KNN model...\")\n",
    "knn.fit(X_train, y_train)\n",
    "print(\"Model training complete!\")\n",
    "\n",
    "# --- Step 4: Evaluate the Model ---\n",
    "print(\"Evaluating the model on the test set...\")\n",
    "y_pred_knn = knn.predict(X_test)\n",
    "\n",
    "# Check accuracy\n",
    "accuracy_knn = accuracy_score(y_test, y_pred_knn)\n",
    "print(f\"\\nKNN Model Accuracy on Test Data (k=5): {accuracy_knn * 100:.2f}%\")\n",
    "\n",
    "# Get a detailed report\n",
    "print(\"\\nKNN Classification Report (k=5):\")\n",
    "print(classification_report(y_test, y_pred_knn,digits=4))"
   ]
  },
  {
   "cell_type": "code",
   "execution_count": null,
   "id": "0de14b82",
   "metadata": {},
   "outputs": [],
   "source": []
  }
 ],
 "metadata": {
  "kernelspec": {
   "display_name": "base",
   "language": "python",
   "name": "python3"
  },
  "language_info": {
   "codemirror_mode": {
    "name": "ipython",
    "version": 3
   },
   "file_extension": ".py",
   "mimetype": "text/x-python",
   "name": "python",
   "nbconvert_exporter": "python",
   "pygments_lexer": "ipython3",
   "version": "3.12.7"
  }
 },
 "nbformat": 4,
 "nbformat_minor": 5
}
