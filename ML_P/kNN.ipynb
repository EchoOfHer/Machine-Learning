{
 "cells": [
  {
   "cell_type": "code",
   "execution_count": 2,
   "id": "9bafc0a5",
   "metadata": {},
   "outputs": [
    {
     "name": "stdout",
     "output_type": "stream",
     "text": [
      "Training features shape: (16720, 56)\n",
      "Testing features shape: (4180, 56)\n",
      "\n",
      "Training the KNN model...\n",
      "Model training complete!\n",
      "Evaluating the model on the test set...\n",
      "\n",
      "KNN Model Accuracy on Test Data (k=5): 80.24%\n",
      "\n",
      "KNN Classification Report (k=5):\n",
      "              precision    recall  f1-score   support\n",
      "\n",
      "         0.0     0.8406    0.8121    0.8261      2416\n",
      "         1.0     0.7541    0.7891    0.7712      1764\n",
      "\n",
      "    accuracy                         0.8024      4180\n",
      "   macro avg     0.7973    0.8006    0.7986      4180\n",
      "weighted avg     0.8041    0.8024    0.8029      4180\n",
      "\n"
     ]
    }
   ],
   "source": [
    "import pandas as pd\n",
    "from sklearn.neighbors import KNeighborsClassifier\n",
    "from sklearn.metrics import classification_report, accuracy_score\n",
    "\n",
    "# --- Step 1: Load Your PROCESSED Data ---\n",
    "try:\n",
    "    train_df = pd.read_csv('./Data/salary.train.processed.csv', index_col='id')\n",
    "    test_df = pd.read_csv('./Data/salary.test.processed.csv', index_col='id')\n",
    "except FileNotFoundError:\n",
    "    print(\"Error: Could not find the processed CSV files.\")\n",
    "    print(\"Please make sure 'salary.train.processed.csv' and 'salary.test.processed.csv' are in the './Data/' folder.\")\n",
    "    raise\n",
    "\n",
    "# --- Step 2: Separate Features (X) and Target (y) ---\n",
    "X_train = train_df.drop('label', axis=1)\n",
    "y_train = train_df['label']\n",
    "X_test = test_df.drop('label', axis=1)\n",
    "y_test = test_df['label']\n",
    "\n",
    "print(f\"Training features shape: {X_train.shape}\")\n",
    "print(f\"Testing features shape: {X_test.shape}\")\n",
    "\n",
    "# --- Step 3: Initialize and Train the KNN Model ---\n",
    "# We'll start with k=5 neighbors (n_neighbors=5)\n",
    "# 'n_jobs=-1' uses all your CPU cores to speed up finding neighbors\n",
    "knn = KNeighborsClassifier(n_neighbors=5, n_jobs=-1)\n",
    "\n",
    "print(\"\\nTraining the KNN model...\")\n",
    "knn.fit(X_train, y_train)\n",
    "print(\"Model training complete!\")\n",
    "\n",
    "# --- Step 4: Evaluate the Model ---\n",
    "print(\"Evaluating the model on the test set...\")\n",
    "y_pred_knn = knn.predict(X_test)\n",
    "\n",
    "# Check accuracy\n",
    "accuracy_knn = accuracy_score(y_test, y_pred_knn)\n",
    "print(f\"\\nKNN Model Accuracy on Test Data (k=5): {accuracy_knn * 100:.2f}%\")\n",
    "\n",
    "# Get a detailed report\n",
    "print(\"\\nKNN Classification Report (k=5):\")\n",
    "print(classification_report(y_test, y_pred_knn,digits=4))"
   ]
  },
  {
   "cell_type": "code",
   "execution_count": null,
   "id": "0de14b82",
   "metadata": {},
   "outputs": [],
   "source": []
  }
 ],
 "metadata": {
  "kernelspec": {
   "display_name": "base",
   "language": "python",
   "name": "python3"
  },
  "language_info": {
   "codemirror_mode": {
    "name": "ipython",
    "version": 3
   },
   "file_extension": ".py",
   "mimetype": "text/x-python",
   "name": "python",
   "nbconvert_exporter": "python",
   "pygments_lexer": "ipython3",
   "version": "3.12.7"
  }
 },
 "nbformat": 4,
 "nbformat_minor": 5
}
